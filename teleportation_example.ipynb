{
 "cells": [
  {
   "cell_type": "markdown",
   "metadata": {},
   "source": [
    "# SQUANCH Test\n",
    "\n",
    "Small test of the SQUANCH (https://github.com/att-innovate/squanch) framework for simulation of quantum channels."
   ]
  },
  {
   "cell_type": "code",
   "execution_count": 1,
   "metadata": {},
   "outputs": [],
   "source": [
    "import numpy as np\n",
    "import matplotlib.pyplot as plt\n",
    "from squanch import *"
   ]
  },
  {
   "cell_type": "markdown",
   "metadata": {},
   "source": [
    "Quantum teleportation example, from the paper [Bartlett 2018]."
   ]
  },
  {
   "cell_type": "code",
   "execution_count": 2,
   "metadata": {},
   "outputs": [
    {
     "data": {
      "application/vnd.jupyter.widget-view+json": {
       "model_id": "678c3a51ffce45e484d3af68f7287a72",
       "version_major": 2,
       "version_minor": 0
      },
      "text/plain": [
       "HBox(children=(IntProgress(value=0, description='Alice', max=12500), HTML(value='')))"
      ]
     },
     "metadata": {},
     "output_type": "display_data"
    },
    {
     "data": {
      "application/vnd.jupyter.widget-view+json": {
       "model_id": "d2662343635147fba05882da4aa96eb0",
       "version_major": 2,
       "version_minor": 0
      },
      "text/plain": [
       "HBox(children=(IntProgress(value=0, description='Bob', max=12500), HTML(value='')))"
      ]
     },
     "metadata": {},
     "output_type": "display_data"
    },
    {
     "name": "stdout",
     "output_type": "stream",
     "text": [
      "\n",
      "\n"
     ]
    },
    {
     "data": {
      "image/png": "[encoded data removed]",
      "text/plain": [
       "<Figure size 432x288 with 1 Axes>"
      ]
     },
     "metadata": {},
     "output_type": "display_data"
    }
   ],
   "source": [
    "class Alice(Agent):\n",
    "    \n",
    "    def distribute_bell_pair(self, a, b):\n",
    "        H(a)\n",
    "        CNOT(a, b)\n",
    "        self.qsend(bob, b)\n",
    "    \n",
    "    def teleport(self, q, a):\n",
    "        CNOT(q, a)\n",
    "        H(q)\n",
    "        \n",
    "        apply_x = a.measure()\n",
    "        apply_z = q.measure()\n",
    "        self.csend(bob, [apply_x, apply_z])\n",
    "    \n",
    "    def run(self):\n",
    "        for qsystem in self.qstream:\n",
    "            q, a, b = qsystem.qubits\n",
    "            self.distribute_bell_pair(a, b)\n",
    "            self.teleport(q, a)\n",
    "\n",
    "class Bob(Agent):\n",
    "    \n",
    "    def run(self):\n",
    "        measurement_results = []\n",
    "        for _ in self.qstream:\n",
    "            b = self.qrecv(alice)\n",
    "            # get corrections necessary for correction on the qubit\n",
    "            apply_x, apply_z = self.crecv(alice)\n",
    "            if apply_x:\n",
    "                X(b)\n",
    "            if apply_z:\n",
    "                Z(b)\n",
    "            \n",
    "            measurement_results.append(b.measure())\n",
    "        self.output(measurement_results)\n",
    "\n",
    "angles = np.linspace(0, 2 * np.pi)\n",
    "num_trials = 250\n",
    "\n",
    "stream = QStream(3, len(angles) * num_trials)\n",
    "for angle in angles:\n",
    "    for _ in range(num_trials):\n",
    "        q, _, _ = stream.next().qubits\n",
    "        RX(q, angle)\n",
    "\n",
    "out = Agent.shared_output()\n",
    "alice = Alice(stream, out=out)\n",
    "bob = Bob(stream, out=out)\n",
    "alice.qconnect(bob)\n",
    "alice.cconnect(bob)\n",
    "\n",
    "Simulation(alice, bob).run()\n",
    "\n",
    "bob_out = out[\"Bob\"]\n",
    "\n",
    "count = 0\n",
    "probabilities = []\n",
    "for angle in angles:\n",
    "    prob = 0\n",
    "    for _ in range(num_trials):\n",
    "        prob += bob_out[count] * 1/num_trials\n",
    "        count +=1\n",
    "    probabilities.append(prob)\n",
    "\n",
    "plt.plot(angles, probabilities)\n",
    "plt.show()"
   ]
  },
  {
   "cell_type": "markdown",
   "metadata": {},
   "source": [
    "## References\n",
    "\n",
    "[Bartlett 2018] B. Bartlett, \"A distributed simulation framework for quantum networks and channels\", arXiv 1808.07047, 2018"
   ]
  },
  {
   "cell_type": "code",
   "execution_count": null,
   "metadata": {},
   "outputs": [],
   "source": []
  }
 ],
 "metadata": {
  "kernelspec": {
   "display_name": "Python 3",
   "language": "python",
   "name": "python3"
  },
  "language_info": {
   "codemirror_mode": {
    "name": "ipython",
    "version": 3
   },
   "file_extension": ".py",
   "mimetype": "text/x-python",
   "name": "python",
   "nbconvert_exporter": "python",
   "pygments_lexer": "ipython3",
   "version": "3.6.8"
  }
 },
 "nbformat": 4,
 "nbformat_minor": 2
}
